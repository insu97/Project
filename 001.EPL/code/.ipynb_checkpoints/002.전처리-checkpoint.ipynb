{
 "cells": [
  {
   "cell_type": "code",
   "execution_count": 1,
   "id": "c7c118d8-931f-41c3-980b-630b790eae9f",
   "metadata": {},
   "outputs": [],
   "source": [
    "import pandas as pd"
   ]
  },
  {
   "cell_type": "code",
   "execution_count": 2,
   "id": "13dfbe1b-d593-4094-9634-eafa45fc61fe",
   "metadata": {},
   "outputs": [],
   "source": [
    "df = pd.read_csv(\"../data/full_data.csv\", low_memory=False)"
   ]
  },
  {
   "cell_type": "code",
   "execution_count": 3,
   "id": "7d9995b0-8eaa-4544-8d71-9dd3a592e639",
   "metadata": {
    "scrolled": true
   },
   "outputs": [
    {
     "data": {
      "text/plain": [
       "HomeTeam\n",
       "Everton             456\n",
       "Liverpool           456\n",
       "Arsenal             456\n",
       "Man United          456\n",
       "Tottenham           456\n",
       "Chelsea             456\n",
       "Man City            437\n",
       "Newcastle           418\n",
       "Aston Villa         399\n",
       "West Ham            399\n",
       "Fulham              323\n",
       "Southampton         304\n",
       "Sunderland          266\n",
       "West Brom           247\n",
       "Leicester           228\n",
       "Crystal Palace      228\n",
       "Bolton              209\n",
       "Blackburn           209\n",
       "Middlesbrough       190\n",
       "Stoke               190\n",
       "Wolves              190\n",
       "Burnley             171\n",
       "Wigan               152\n",
       "Swansea             133\n",
       "Bournemouth         133\n",
       "Watford             133\n",
       "Brighton            133\n",
       "Charlton            133\n",
       "Birmingham          133\n",
       "Norwich             133\n",
       "Portsmouth          133\n",
       "Leeds               133\n",
       "Hull                 95\n",
       "Sheffield United     76\n",
       "Reading              57\n",
       "Brentford            57\n",
       "Derby                57\n",
       "QPR                  57\n",
       "Cardiff              38\n",
       "Huddersfield         38\n",
       "Ipswich              38\n",
       "Nott'm Forest        38\n",
       "Blackpool            19\n",
       "Bradford             19\n",
       "Coventry             19\n",
       "Luton                19\n",
       "Name: count, dtype: int64"
      ]
     },
     "execution_count": 3,
     "metadata": {},
     "output_type": "execute_result"
    }
   ],
   "source": [
    "df['HomeTeam'].value_counts()"
   ]
  },
  {
   "cell_type": "code",
   "execution_count": 4,
   "id": "974c0792-fa40-401c-a20e-cac6c8a70fcb",
   "metadata": {},
   "outputs": [],
   "source": [
    "# 만수르가 인수한 08-09 시즌 맨시티부터 시작\n",
    "for i in range(len(df)):\n",
    "    if len(df.loc[i, 'Date'].split('/')[2]) == 4 :\n",
    "        df.loc[i, 'Date'] = df.loc[i, 'Date'].split('/')[2] + '-' + df.loc[i, 'Date'].split('/')[1] + '-' + df.loc[i, 'Date'].split('/')[0]\n",
    "    else :\n",
    "        df.loc[i, 'Date'] =  '20'+ df.loc[i, 'Date'].split('/')[2] + '-' + df.loc[i, 'Date'].split('/')[1] + '-' + df.loc[i, 'Date'].split('/')[0]\n",
    "\n",
    "df['Date'] = pd.to_datetime(df['Date'])\n",
    "df = df.sort_values(by='Date')\n",
    "df.reset_index(drop=True, inplace=True)"
   ]
  },
  {
   "cell_type": "code",
   "execution_count": 5,
   "id": "4e9c6f2e-8f48-44b2-9667-f7ca5c623d42",
   "metadata": {},
   "outputs": [
    {
     "data": {
      "text/plain": [
       "3035   2008-05-11\n",
       "3036   2008-05-11\n",
       "3037   2008-05-11\n",
       "3038   2008-05-11\n",
       "3039   2008-05-11\n",
       "3040   2008-08-16\n",
       "3041   2008-08-16\n",
       "3042   2008-08-16\n",
       "3043   2008-08-16\n",
       "3044   2008-08-16\n",
       "Name: Date, dtype: datetime64[ns]"
      ]
     },
     "execution_count": 5,
     "metadata": {},
     "output_type": "execute_result"
    }
   ],
   "source": [
    "df['Date'][3035:3045]"
   ]
  },
  {
   "cell_type": "code",
   "execution_count": 6,
   "id": "132c20f5-a938-4307-81f3-2affcf0bbf87",
   "metadata": {},
   "outputs": [],
   "source": [
    "df = df[3040:]\n",
    "\n",
    "df.reset_index(drop=True, inplace=True)"
   ]
  },
  {
   "cell_type": "code",
   "execution_count": 7,
   "id": "88079f91-d4f4-49fe-a99c-ec22d307ab5d",
   "metadata": {},
   "outputs": [
    {
     "data": {
      "text/plain": [
       "HomeTeam\n",
       "Everton             304\n",
       "Man United          304\n",
       "Tottenham           304\n",
       "Liverpool           304\n",
       "Arsenal             304\n",
       "Man City            304\n",
       "Chelsea             304\n",
       "West Ham            285\n",
       "Newcastle           266\n",
       "Aston Villa         247\n",
       "Southampton         209\n",
       "Crystal Palace      209\n",
       "Fulham              190\n",
       "Stoke               190\n",
       "West Brom           190\n",
       "Burnley             171\n",
       "Leicester           171\n",
       "Wolves              171\n",
       "Sunderland          171\n",
       "Swansea             133\n",
       "Brighton            133\n",
       "Bournemouth         133\n",
       "Watford             114\n",
       "Norwich             114\n",
       "Wigan                95\n",
       "Hull                 95\n",
       "Bolton               76\n",
       "Blackburn            76\n",
       "QPR                  57\n",
       "Sheffield United     57\n",
       "Leeds                57\n",
       "Brentford            57\n",
       "Middlesbrough        38\n",
       "Portsmouth           38\n",
       "Cardiff              38\n",
       "Birmingham           38\n",
       "Huddersfield         38\n",
       "Nott'm Forest        38\n",
       "Reading              19\n",
       "Blackpool            19\n",
       "Luton                19\n",
       "Name: count, dtype: int64"
      ]
     },
     "execution_count": 7,
     "metadata": {},
     "output_type": "execute_result"
    }
   ],
   "source": [
    "df['HomeTeam'].value_counts() # Arsenal, Chelsea, Man City, Liverpool, Man United, Tottenham, Everton 끼리 상대전적만 분석"
   ]
  },
  {
   "cell_type": "code",
   "execution_count": 8,
   "id": "e5496b10-730b-4d01-a9db-964879b802d8",
   "metadata": {},
   "outputs": [],
   "source": [
    "use_team = ['Arsenal', 'Chelsea', 'Man City', 'Liverpool', 'Man United', 'Tottenham', 'Everton']"
   ]
  },
  {
   "cell_type": "code",
   "execution_count": 9,
   "id": "e368b6e8-94d5-4d0a-8e34-cd5b9b30e038",
   "metadata": {},
   "outputs": [],
   "source": [
    "for i in range(len(df)):\n",
    "    if df['HomeTeam'][i] in use_team :\n",
    "        pass\n",
    "    else :\n",
    "        df.drop(i, axis=0, inplace=True)\n",
    "\n",
    "df.reset_index(drop=True, inplace=True)"
   ]
  },
  {
   "cell_type": "code",
   "execution_count": 10,
   "id": "d62ec22f-23f1-4484-855e-fbd0f0b9845b",
   "metadata": {},
   "outputs": [
    {
     "data": {
      "text/plain": [
       "2128"
      ]
     },
     "execution_count": 10,
     "metadata": {},
     "output_type": "execute_result"
    }
   ],
   "source": [
    "len(df)"
   ]
  },
  {
   "cell_type": "code",
   "execution_count": 11,
   "id": "3addb89e-151a-445b-96b9-f72a28ec1922",
   "metadata": {},
   "outputs": [
    {
     "data": {
      "text/plain": [
       "HomeTeam\n",
       "Everton       304\n",
       "Arsenal       304\n",
       "Man United    304\n",
       "Chelsea       304\n",
       "Liverpool     304\n",
       "Tottenham     304\n",
       "Man City      304\n",
       "Name: count, dtype: int64"
      ]
     },
     "execution_count": 11,
     "metadata": {},
     "output_type": "execute_result"
    }
   ],
   "source": [
    "df['HomeTeam'].value_counts()"
   ]
  },
  {
   "cell_type": "code",
   "execution_count": 12,
   "id": "7def7c3a-b876-4b36-8ec6-9b391cfd4bc0",
   "metadata": {
    "scrolled": true
   },
   "outputs": [
    {
     "data": {
      "text/plain": [
       "AwayTeam\n",
       "West Ham            105\n",
       "Newcastle            98\n",
       "Man City             96\n",
       "Chelsea              96\n",
       "Arsenal              96\n",
       "Everton              96\n",
       "Liverpool            96\n",
       "Tottenham            96\n",
       "Man United           96\n",
       "Aston Villa          91\n",
       "Southampton          77\n",
       "Crystal Palace       77\n",
       "West Brom            70\n",
       "Stoke                70\n",
       "Fulham               70\n",
       "Sunderland           63\n",
       "Burnley              63\n",
       "Wolves               63\n",
       "Leicester            63\n",
       "Swansea              49\n",
       "Bournemouth          49\n",
       "Brighton             49\n",
       "Norwich              42\n",
       "Watford              42\n",
       "Hull                 35\n",
       "Wigan                35\n",
       "Bolton               28\n",
       "Blackburn            28\n",
       "Leeds                21\n",
       "QPR                  21\n",
       "Sheffield United     21\n",
       "Brentford            21\n",
       "Huddersfield         14\n",
       "Nott'm Forest        14\n",
       "Birmingham           14\n",
       "Cardiff              14\n",
       "Middlesbrough        14\n",
       "Portsmouth           14\n",
       "Reading               7\n",
       "Blackpool             7\n",
       "Luton                 7\n",
       "Name: count, dtype: int64"
      ]
     },
     "execution_count": 12,
     "metadata": {},
     "output_type": "execute_result"
    }
   ],
   "source": [
    "df['AwayTeam'].value_counts()"
   ]
  },
  {
   "cell_type": "code",
   "execution_count": 13,
   "id": "141451ab-67f6-421c-af0d-30bd58254cb1",
   "metadata": {},
   "outputs": [],
   "source": [
    "for i in range(len(df)):\n",
    "    if df['AwayTeam'][i] in use_team :\n",
    "        pass\n",
    "    else :\n",
    "        df.drop(i, axis=0, inplace=True)\n",
    "        \n",
    "df.reset_index(drop=True, inplace=True)"
   ]
  },
  {
   "cell_type": "code",
   "execution_count": 14,
   "id": "ee925f23-43ac-4f47-87e9-3a0479482302",
   "metadata": {},
   "outputs": [
    {
     "data": {
      "text/plain": [
       "HomeTeam\n",
       "Chelsea       96\n",
       "Liverpool     96\n",
       "Man City      96\n",
       "Everton       96\n",
       "Arsenal       96\n",
       "Tottenham     96\n",
       "Man United    96\n",
       "Name: count, dtype: int64"
      ]
     },
     "execution_count": 14,
     "metadata": {},
     "output_type": "execute_result"
    }
   ],
   "source": [
    "df['HomeTeam'].value_counts()"
   ]
  },
  {
   "cell_type": "code",
   "execution_count": 15,
   "id": "7780294f-e750-4401-ba1f-c75b901c22c8",
   "metadata": {},
   "outputs": [
    {
     "data": {
      "text/plain": [
       "AwayTeam\n",
       "Tottenham     96\n",
       "Man United    96\n",
       "Chelsea       96\n",
       "Liverpool     96\n",
       "Everton       96\n",
       "Arsenal       96\n",
       "Man City      96\n",
       "Name: count, dtype: int64"
      ]
     },
     "execution_count": 15,
     "metadata": {},
     "output_type": "execute_result"
    }
   ],
   "source": [
    "df['AwayTeam'].value_counts()"
   ]
  },
  {
   "cell_type": "code",
   "execution_count": 16,
   "id": "c1caf8ef-998d-4bd3-9809-a399299ac898",
   "metadata": {},
   "outputs": [],
   "source": [
    "df.dropna(axis=1, inplace = True)"
   ]
  },
  {
   "cell_type": "code",
   "execution_count": 17,
   "id": "7ae850b5-d574-4563-88a9-0830d683a15e",
   "metadata": {},
   "outputs": [
    {
     "data": {
      "text/html": [
       "<div>\n",
       "<style scoped>\n",
       "    .dataframe tbody tr th:only-of-type {\n",
       "        vertical-align: middle;\n",
       "    }\n",
       "\n",
       "    .dataframe tbody tr th {\n",
       "        vertical-align: top;\n",
       "    }\n",
       "\n",
       "    .dataframe thead th {\n",
       "        text-align: right;\n",
       "    }\n",
       "</style>\n",
       "<table border=\"1\" class=\"dataframe\">\n",
       "  <thead>\n",
       "    <tr style=\"text-align: right;\">\n",
       "      <th></th>\n",
       "      <th>Div</th>\n",
       "      <th>Date</th>\n",
       "      <th>HomeTeam</th>\n",
       "      <th>AwayTeam</th>\n",
       "      <th>FTHG</th>\n",
       "      <th>FTAG</th>\n",
       "      <th>FTR</th>\n",
       "      <th>HTHG</th>\n",
       "      <th>HTAG</th>\n",
       "      <th>HTR</th>\n",
       "      <th>...</th>\n",
       "      <th>WHA</th>\n",
       "      <th>B365H</th>\n",
       "      <th>B365D</th>\n",
       "      <th>B365A</th>\n",
       "      <th>BWH</th>\n",
       "      <th>BWD</th>\n",
       "      <th>BWA</th>\n",
       "      <th>VCH</th>\n",
       "      <th>VCD</th>\n",
       "      <th>VCA</th>\n",
       "    </tr>\n",
       "  </thead>\n",
       "  <tbody>\n",
       "    <tr>\n",
       "      <th>0</th>\n",
       "      <td>E0</td>\n",
       "      <td>2008-08-31</td>\n",
       "      <td>Chelsea</td>\n",
       "      <td>Tottenham</td>\n",
       "      <td>1</td>\n",
       "      <td>1</td>\n",
       "      <td>D</td>\n",
       "      <td>1</td>\n",
       "      <td>1</td>\n",
       "      <td>D</td>\n",
       "      <td>...</td>\n",
       "      <td>8.5</td>\n",
       "      <td>1.40</td>\n",
       "      <td>4.33</td>\n",
       "      <td>9.00</td>\n",
       "      <td>1.35</td>\n",
       "      <td>4.10</td>\n",
       "      <td>8.75</td>\n",
       "      <td>1.40</td>\n",
       "      <td>4.60</td>\n",
       "      <td>9.0</td>\n",
       "    </tr>\n",
       "    <tr>\n",
       "      <th>1</th>\n",
       "      <td>E0</td>\n",
       "      <td>2008-09-13</td>\n",
       "      <td>Liverpool</td>\n",
       "      <td>Man United</td>\n",
       "      <td>2</td>\n",
       "      <td>1</td>\n",
       "      <td>H</td>\n",
       "      <td>1</td>\n",
       "      <td>1</td>\n",
       "      <td>D</td>\n",
       "      <td>...</td>\n",
       "      <td>2.5</td>\n",
       "      <td>3.00</td>\n",
       "      <td>3.00</td>\n",
       "      <td>2.60</td>\n",
       "      <td>2.80</td>\n",
       "      <td>3.10</td>\n",
       "      <td>2.40</td>\n",
       "      <td>3.10</td>\n",
       "      <td>3.10</td>\n",
       "      <td>2.5</td>\n",
       "    </tr>\n",
       "    <tr>\n",
       "      <th>2</th>\n",
       "      <td>E0</td>\n",
       "      <td>2008-09-13</td>\n",
       "      <td>Man City</td>\n",
       "      <td>Chelsea</td>\n",
       "      <td>1</td>\n",
       "      <td>3</td>\n",
       "      <td>A</td>\n",
       "      <td>1</td>\n",
       "      <td>1</td>\n",
       "      <td>D</td>\n",
       "      <td>...</td>\n",
       "      <td>1.91</td>\n",
       "      <td>4.33</td>\n",
       "      <td>3.30</td>\n",
       "      <td>1.91</td>\n",
       "      <td>3.90</td>\n",
       "      <td>3.30</td>\n",
       "      <td>1.85</td>\n",
       "      <td>4.40</td>\n",
       "      <td>3.35</td>\n",
       "      <td>1.9</td>\n",
       "    </tr>\n",
       "    <tr>\n",
       "      <th>3</th>\n",
       "      <td>E0</td>\n",
       "      <td>2008-09-21</td>\n",
       "      <td>Chelsea</td>\n",
       "      <td>Man United</td>\n",
       "      <td>1</td>\n",
       "      <td>1</td>\n",
       "      <td>D</td>\n",
       "      <td>0</td>\n",
       "      <td>1</td>\n",
       "      <td>A</td>\n",
       "      <td>...</td>\n",
       "      <td>3.6</td>\n",
       "      <td>2.20</td>\n",
       "      <td>3.10</td>\n",
       "      <td>3.60</td>\n",
       "      <td>2.15</td>\n",
       "      <td>3.05</td>\n",
       "      <td>3.30</td>\n",
       "      <td>2.20</td>\n",
       "      <td>3.10</td>\n",
       "      <td>3.7</td>\n",
       "    </tr>\n",
       "    <tr>\n",
       "      <th>4</th>\n",
       "      <td>E0</td>\n",
       "      <td>2008-09-27</td>\n",
       "      <td>Everton</td>\n",
       "      <td>Liverpool</td>\n",
       "      <td>0</td>\n",
       "      <td>2</td>\n",
       "      <td>A</td>\n",
       "      <td>0</td>\n",
       "      <td>0</td>\n",
       "      <td>D</td>\n",
       "      <td>...</td>\n",
       "      <td>2.1</td>\n",
       "      <td>3.75</td>\n",
       "      <td>3.25</td>\n",
       "      <td>2.10</td>\n",
       "      <td>3.50</td>\n",
       "      <td>3.15</td>\n",
       "      <td>2.00</td>\n",
       "      <td>3.75</td>\n",
       "      <td>3.30</td>\n",
       "      <td>2.1</td>\n",
       "    </tr>\n",
       "  </tbody>\n",
       "</table>\n",
       "<p>5 rows × 35 columns</p>\n",
       "</div>"
      ],
      "text/plain": [
       "  Div       Date   HomeTeam    AwayTeam  FTHG  FTAG FTR  HTHG  HTAG HTR  ...  \\\n",
       "0  E0 2008-08-31    Chelsea   Tottenham     1     1   D     1     1   D  ...   \n",
       "1  E0 2008-09-13  Liverpool  Man United     2     1   H     1     1   D  ...   \n",
       "2  E0 2008-09-13   Man City     Chelsea     1     3   A     1     1   D  ...   \n",
       "3  E0 2008-09-21    Chelsea  Man United     1     1   D     0     1   A  ...   \n",
       "4  E0 2008-09-27    Everton   Liverpool     0     2   A     0     0   D  ...   \n",
       "\n",
       "    WHA  B365H  B365D  B365A   BWH   BWD   BWA   VCH   VCD  VCA  \n",
       "0   8.5   1.40   4.33   9.00  1.35  4.10  8.75  1.40  4.60  9.0  \n",
       "1   2.5   3.00   3.00   2.60  2.80  3.10  2.40  3.10  3.10  2.5  \n",
       "2  1.91   4.33   3.30   1.91  3.90  3.30  1.85  4.40  3.35  1.9  \n",
       "3   3.6   2.20   3.10   3.60  2.15  3.05  3.30  2.20  3.10  3.7  \n",
       "4   2.1   3.75   3.25   2.10  3.50  3.15  2.00  3.75  3.30  2.1  \n",
       "\n",
       "[5 rows x 35 columns]"
      ]
     },
     "execution_count": 17,
     "metadata": {},
     "output_type": "execute_result"
    }
   ],
   "source": [
    "df.head()"
   ]
  },
  {
   "cell_type": "code",
   "execution_count": 18,
   "id": "95d9a758-b08d-4cce-85cd-bb08bdd64ffc",
   "metadata": {},
   "outputs": [
    {
     "data": {
      "text/plain": [
       "672"
      ]
     },
     "execution_count": 18,
     "metadata": {},
     "output_type": "execute_result"
    }
   ],
   "source": [
    "len(df)"
   ]
  },
  {
   "cell_type": "code",
   "execution_count": 19,
   "id": "4a38aad4-5e2b-4709-8242-3bdc6cf00f93",
   "metadata": {},
   "outputs": [
    {
     "data": {
      "text/plain": [
       "Div\n",
       "E0    672\n",
       "Name: count, dtype: int64"
      ]
     },
     "execution_count": 19,
     "metadata": {},
     "output_type": "execute_result"
    }
   ],
   "source": [
    "df['Div'].value_counts()"
   ]
  },
  {
   "cell_type": "code",
   "execution_count": 20,
   "id": "9f4deea5-1fae-4d28-bd88-c378d4a610fb",
   "metadata": {},
   "outputs": [],
   "source": [
    "df.drop(columns=['Div'], inplace = True)"
   ]
  },
  {
   "cell_type": "code",
   "execution_count": 23,
   "id": "2af5a65c-a684-4207-9fe9-972100766713",
   "metadata": {},
   "outputs": [
    {
     "data": {
      "text/html": [
       "<div>\n",
       "<style scoped>\n",
       "    .dataframe tbody tr th:only-of-type {\n",
       "        vertical-align: middle;\n",
       "    }\n",
       "\n",
       "    .dataframe tbody tr th {\n",
       "        vertical-align: top;\n",
       "    }\n",
       "\n",
       "    .dataframe thead th {\n",
       "        text-align: right;\n",
       "    }\n",
       "</style>\n",
       "<table border=\"1\" class=\"dataframe\">\n",
       "  <thead>\n",
       "    <tr style=\"text-align: right;\">\n",
       "      <th></th>\n",
       "      <th>Date</th>\n",
       "      <th>HomeTeam</th>\n",
       "      <th>AwayTeam</th>\n",
       "      <th>FTHG</th>\n",
       "      <th>FTAG</th>\n",
       "      <th>FTR</th>\n",
       "      <th>HTHG</th>\n",
       "      <th>HTAG</th>\n",
       "      <th>HTR</th>\n",
       "      <th>Referee</th>\n",
       "      <th>...</th>\n",
       "      <th>WHA</th>\n",
       "      <th>B365H</th>\n",
       "      <th>B365D</th>\n",
       "      <th>B365A</th>\n",
       "      <th>BWH</th>\n",
       "      <th>BWD</th>\n",
       "      <th>BWA</th>\n",
       "      <th>VCH</th>\n",
       "      <th>VCD</th>\n",
       "      <th>VCA</th>\n",
       "    </tr>\n",
       "  </thead>\n",
       "  <tbody>\n",
       "    <tr>\n",
       "      <th>0</th>\n",
       "      <td>2008-08-31</td>\n",
       "      <td>Chelsea</td>\n",
       "      <td>Tottenham</td>\n",
       "      <td>1</td>\n",
       "      <td>1</td>\n",
       "      <td>D</td>\n",
       "      <td>1</td>\n",
       "      <td>1</td>\n",
       "      <td>D</td>\n",
       "      <td>H Webb</td>\n",
       "      <td>...</td>\n",
       "      <td>8.5</td>\n",
       "      <td>1.40</td>\n",
       "      <td>4.33</td>\n",
       "      <td>9.00</td>\n",
       "      <td>1.35</td>\n",
       "      <td>4.10</td>\n",
       "      <td>8.75</td>\n",
       "      <td>1.40</td>\n",
       "      <td>4.60</td>\n",
       "      <td>9.0</td>\n",
       "    </tr>\n",
       "    <tr>\n",
       "      <th>1</th>\n",
       "      <td>2008-09-13</td>\n",
       "      <td>Liverpool</td>\n",
       "      <td>Man United</td>\n",
       "      <td>2</td>\n",
       "      <td>1</td>\n",
       "      <td>H</td>\n",
       "      <td>1</td>\n",
       "      <td>1</td>\n",
       "      <td>D</td>\n",
       "      <td>H Webb</td>\n",
       "      <td>...</td>\n",
       "      <td>2.5</td>\n",
       "      <td>3.00</td>\n",
       "      <td>3.00</td>\n",
       "      <td>2.60</td>\n",
       "      <td>2.80</td>\n",
       "      <td>3.10</td>\n",
       "      <td>2.40</td>\n",
       "      <td>3.10</td>\n",
       "      <td>3.10</td>\n",
       "      <td>2.5</td>\n",
       "    </tr>\n",
       "    <tr>\n",
       "      <th>2</th>\n",
       "      <td>2008-09-13</td>\n",
       "      <td>Man City</td>\n",
       "      <td>Chelsea</td>\n",
       "      <td>1</td>\n",
       "      <td>3</td>\n",
       "      <td>A</td>\n",
       "      <td>1</td>\n",
       "      <td>1</td>\n",
       "      <td>D</td>\n",
       "      <td>M Halsey</td>\n",
       "      <td>...</td>\n",
       "      <td>1.91</td>\n",
       "      <td>4.33</td>\n",
       "      <td>3.30</td>\n",
       "      <td>1.91</td>\n",
       "      <td>3.90</td>\n",
       "      <td>3.30</td>\n",
       "      <td>1.85</td>\n",
       "      <td>4.40</td>\n",
       "      <td>3.35</td>\n",
       "      <td>1.9</td>\n",
       "    </tr>\n",
       "    <tr>\n",
       "      <th>3</th>\n",
       "      <td>2008-09-21</td>\n",
       "      <td>Chelsea</td>\n",
       "      <td>Man United</td>\n",
       "      <td>1</td>\n",
       "      <td>1</td>\n",
       "      <td>D</td>\n",
       "      <td>0</td>\n",
       "      <td>1</td>\n",
       "      <td>A</td>\n",
       "      <td>M Riley</td>\n",
       "      <td>...</td>\n",
       "      <td>3.6</td>\n",
       "      <td>2.20</td>\n",
       "      <td>3.10</td>\n",
       "      <td>3.60</td>\n",
       "      <td>2.15</td>\n",
       "      <td>3.05</td>\n",
       "      <td>3.30</td>\n",
       "      <td>2.20</td>\n",
       "      <td>3.10</td>\n",
       "      <td>3.7</td>\n",
       "    </tr>\n",
       "    <tr>\n",
       "      <th>4</th>\n",
       "      <td>2008-09-27</td>\n",
       "      <td>Everton</td>\n",
       "      <td>Liverpool</td>\n",
       "      <td>0</td>\n",
       "      <td>2</td>\n",
       "      <td>A</td>\n",
       "      <td>0</td>\n",
       "      <td>0</td>\n",
       "      <td>D</td>\n",
       "      <td>M Riley</td>\n",
       "      <td>...</td>\n",
       "      <td>2.1</td>\n",
       "      <td>3.75</td>\n",
       "      <td>3.25</td>\n",
       "      <td>2.10</td>\n",
       "      <td>3.50</td>\n",
       "      <td>3.15</td>\n",
       "      <td>2.00</td>\n",
       "      <td>3.75</td>\n",
       "      <td>3.30</td>\n",
       "      <td>2.1</td>\n",
       "    </tr>\n",
       "  </tbody>\n",
       "</table>\n",
       "<p>5 rows × 34 columns</p>\n",
       "</div>"
      ],
      "text/plain": [
       "        Date   HomeTeam    AwayTeam  FTHG  FTAG FTR  HTHG  HTAG HTR   Referee  \\\n",
       "0 2008-08-31    Chelsea   Tottenham     1     1   D     1     1   D    H Webb   \n",
       "1 2008-09-13  Liverpool  Man United     2     1   H     1     1   D    H Webb   \n",
       "2 2008-09-13   Man City     Chelsea     1     3   A     1     1   D  M Halsey   \n",
       "3 2008-09-21    Chelsea  Man United     1     1   D     0     1   A   M Riley   \n",
       "4 2008-09-27    Everton   Liverpool     0     2   A     0     0   D   M Riley   \n",
       "\n",
       "   ...   WHA  B365H  B365D  B365A   BWH   BWD   BWA   VCH   VCD  VCA  \n",
       "0  ...   8.5   1.40   4.33   9.00  1.35  4.10  8.75  1.40  4.60  9.0  \n",
       "1  ...   2.5   3.00   3.00   2.60  2.80  3.10  2.40  3.10  3.10  2.5  \n",
       "2  ...  1.91   4.33   3.30   1.91  3.90  3.30  1.85  4.40  3.35  1.9  \n",
       "3  ...   3.6   2.20   3.10   3.60  2.15  3.05  3.30  2.20  3.10  3.7  \n",
       "4  ...   2.1   3.75   3.25   2.10  3.50  3.15  2.00  3.75  3.30  2.1  \n",
       "\n",
       "[5 rows x 34 columns]"
      ]
     },
     "execution_count": 23,
     "metadata": {},
     "output_type": "execute_result"
    }
   ],
   "source": [
    "df.head()"
   ]
  },
  {
   "cell_type": "code",
   "execution_count": 25,
   "id": "8e046401-a431-479c-b5a9-0f7b79af810f",
   "metadata": {},
   "outputs": [
    {
     "data": {
      "text/plain": [
       "Index(['Date', 'HomeTeam', 'AwayTeam', 'FTHG', 'FTAG', 'FTR', 'HTHG', 'HTAG',\n",
       "       'HTR', 'Referee', 'HS', 'AS', 'HST', 'AST', 'HC', 'AC', 'HF', 'AF',\n",
       "       'HY', 'AY', 'HR', 'AR', 'WHH', 'WHD', 'WHA', 'B365H', 'B365D', 'B365A',\n",
       "       'BWH', 'BWD', 'BWA', 'VCH', 'VCD', 'VCA'],\n",
       "      dtype='object')"
      ]
     },
     "execution_count": 25,
     "metadata": {},
     "output_type": "execute_result"
    }
   ],
   "source": [
    "df.columns"
   ]
  },
  {
   "cell_type": "markdown",
   "id": "a7808e16-fdab-4053-b19f-3d631acb4dec",
   "metadata": {},
   "source": [
    "https://www.football-data.co.uk/notes.txt"
   ]
  }
 ],
 "metadata": {
  "kernelspec": {
   "display_name": "Python 3 (ipykernel)",
   "language": "python",
   "name": "python3"
  },
  "language_info": {
   "codemirror_mode": {
    "name": "ipython",
    "version": 3
   },
   "file_extension": ".py",
   "mimetype": "text/x-python",
   "name": "python",
   "nbconvert_exporter": "python",
   "pygments_lexer": "ipython3",
   "version": "3.12.2"
  }
 },
 "nbformat": 4,
 "nbformat_minor": 5
}
